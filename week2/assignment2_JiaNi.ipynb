{
 "cells": [
  {
   "cell_type": "markdown",
   "id": "06e8819c-77cc-46d0-b1eb-69b09212d06d",
   "metadata": {},
   "source": [
    "# Week 2 Data Exploration\n",
    "## Jia Ni\n",
    "In this assignment I conduct a preliminary analysis of the [gis data: City of Los Angeles Bikeways](https://geohub.lacity.org/datasets/ladot::city-of-los-angeles-bikeways-1/about). This dataset includes information on the City of Los Angeles' network of on-street and off-street bikeways. I primarily analyzed the proportions of different bikeway types to lay the groundwork for further analysis of the uneven distribution of bikeway development across different areas in LA."
   ]
  },
  {
   "cell_type": "markdown",
   "id": "bea5e1da-95e4-4fcc-a997-957db7a56465",
   "metadata": {},
   "source": [
    "### Import the libraries"
   ]
  },
  {
   "cell_type": "code",
   "execution_count": 1,
   "id": "55f47c42-ed56-45c5-9f25-9af7398ebca1",
   "metadata": {},
   "outputs": [],
   "source": [
    "import pandas as pd\n",
    "import geopandas as gpd"
   ]
  },
  {
   "cell_type": "markdown",
   "id": "bc2ccfee-770b-4505-9adf-84778b91812f",
   "metadata": {},
   "source": [
    "### Read and add shapefile to notebook"
   ]
  },
  {
   "cell_type": "code",
   "execution_count": 2,
   "id": "84ab27bf-d6ea-4be0-9233-44a9b823c02d",
   "metadata": {},
   "outputs": [],
   "source": [
    "bikeways = gpd.read_file('data/City_of_Los_Angeles_Bikeways.zip')"
   ]
  },
  {
   "cell_type": "markdown",
   "id": "60cd4309-5508-4074-aed0-88ce0ae1691c",
   "metadata": {},
   "source": [
    "### Preview of data"
   ]
  },
  {
   "cell_type": "code",
   "execution_count": 3,
   "id": "e959c944-f819-4488-bc5e-3bf79b309c16",
   "metadata": {},
   "outputs": [
    {
     "data": {
      "text/html": [
       "<div>\n",
       "<style scoped>\n",
       "    .dataframe tbody tr th:only-of-type {\n",
       "        vertical-align: middle;\n",
       "    }\n",
       "\n",
       "    .dataframe tbody tr th {\n",
       "        vertical-align: top;\n",
       "    }\n",
       "\n",
       "    .dataframe thead th {\n",
       "        text-align: right;\n",
       "    }\n",
       "</style>\n",
       "<table border=\"1\" class=\"dataframe\">\n",
       "  <thead>\n",
       "    <tr style=\"text-align: right;\">\n",
       "      <th></th>\n",
       "      <th>OBJECTID_1</th>\n",
       "      <th>SECT_ID</th>\n",
       "      <th>InputDate</th>\n",
       "      <th>Update_Dat</th>\n",
       "      <th>Install_Da</th>\n",
       "      <th>FY</th>\n",
       "      <th>Year_</th>\n",
       "      <th>Limits</th>\n",
       "      <th>STREET_DES</th>\n",
       "      <th>ST_TYPE</th>\n",
       "      <th>...</th>\n",
       "      <th>ClassIV_Pr</th>\n",
       "      <th>ClassIV__1</th>\n",
       "      <th>ClassIV__2</th>\n",
       "      <th>ST_WIDTH</th>\n",
       "      <th>Compare</th>\n",
       "      <th>ASSET_ID</th>\n",
       "      <th>Bikeway_ID</th>\n",
       "      <th>GlobalID</th>\n",
       "      <th>Shape__Len</th>\n",
       "      <th>geometry</th>\n",
       "    </tr>\n",
       "  </thead>\n",
       "  <tbody>\n",
       "    <tr>\n",
       "      <th>0</th>\n",
       "      <td>1</td>\n",
       "      <td>3548700</td>\n",
       "      <td>2019-04-09</td>\n",
       "      <td>2019-04-09</td>\n",
       "      <td>2019-03-01</td>\n",
       "      <td>FY18/19</td>\n",
       "      <td>2019.0</td>\n",
       "      <td>6TH ST TO 4TH PL / SANTA FE AV</td>\n",
       "      <td>Avenue III</td>\n",
       "      <td>None</td>\n",
       "      <td>...</td>\n",
       "      <td>0</td>\n",
       "      <td>None</td>\n",
       "      <td>0</td>\n",
       "      <td>0.0</td>\n",
       "      <td>NaN</td>\n",
       "      <td>17783.0</td>\n",
       "      <td>1</td>\n",
       "      <td>7614417c-213b-48f2-bacc-56300c7d8e7b</td>\n",
       "      <td>354.897441</td>\n",
       "      <td>LINESTRING Z (6491098.651 1837081.6 0, 6491130...</td>\n",
       "    </tr>\n",
       "    <tr>\n",
       "      <th>1</th>\n",
       "      <td>2</td>\n",
       "      <td>3548600</td>\n",
       "      <td>2019-04-09</td>\n",
       "      <td>2019-04-09</td>\n",
       "      <td>2019-03-01</td>\n",
       "      <td>FY18/19</td>\n",
       "      <td>2019.0</td>\n",
       "      <td>6TH ST TO 4TH PL / SANTA FE AV</td>\n",
       "      <td>Avenue III</td>\n",
       "      <td>None</td>\n",
       "      <td>...</td>\n",
       "      <td>0</td>\n",
       "      <td>None</td>\n",
       "      <td>0</td>\n",
       "      <td>0.0</td>\n",
       "      <td>NaN</td>\n",
       "      <td>27684.0</td>\n",
       "      <td>2</td>\n",
       "      <td>219e9fd2-be47-4334-8825-47abe09db653</td>\n",
       "      <td>269.514341</td>\n",
       "      <td>LINESTRING Z (6491048.222 1837450.535 0, 64910...</td>\n",
       "    </tr>\n",
       "    <tr>\n",
       "      <th>2</th>\n",
       "      <td>3</td>\n",
       "      <td>3548600</td>\n",
       "      <td>2019-04-09</td>\n",
       "      <td>2019-04-09</td>\n",
       "      <td>2019-03-01</td>\n",
       "      <td>FY18/19</td>\n",
       "      <td>2019.0</td>\n",
       "      <td>6TH ST TO 4TH PL / SANTA FE AV</td>\n",
       "      <td>Avenue III</td>\n",
       "      <td>None</td>\n",
       "      <td>...</td>\n",
       "      <td>0</td>\n",
       "      <td>None</td>\n",
       "      <td>0</td>\n",
       "      <td>0.0</td>\n",
       "      <td>NaN</td>\n",
       "      <td>27027.0</td>\n",
       "      <td>3</td>\n",
       "      <td>74037f89-7eed-412a-a6f1-7459365ec6ab</td>\n",
       "      <td>102.905742</td>\n",
       "      <td>LINESTRING Z (6491086.47 1837183.749 0, 649109...</td>\n",
       "    </tr>\n",
       "    <tr>\n",
       "      <th>3</th>\n",
       "      <td>4</td>\n",
       "      <td>3548800</td>\n",
       "      <td>2019-04-09</td>\n",
       "      <td>2019-04-09</td>\n",
       "      <td>2019-03-01</td>\n",
       "      <td>FY18/19</td>\n",
       "      <td>2019.0</td>\n",
       "      <td>6TH ST TO 4TH PL / SANTA FE AV</td>\n",
       "      <td>Avenue III</td>\n",
       "      <td>None</td>\n",
       "      <td>...</td>\n",
       "      <td>0</td>\n",
       "      <td>None</td>\n",
       "      <td>0</td>\n",
       "      <td>0.0</td>\n",
       "      <td>NaN</td>\n",
       "      <td>39059.0</td>\n",
       "      <td>4</td>\n",
       "      <td>40355cda-35d8-4da0-a9e5-72c6e1df2b09</td>\n",
       "      <td>295.730268</td>\n",
       "      <td>LINESTRING Z (6491130.941 1836728.175 0, 64911...</td>\n",
       "    </tr>\n",
       "    <tr>\n",
       "      <th>4</th>\n",
       "      <td>5</td>\n",
       "      <td>6739300</td>\n",
       "      <td>NaT</td>\n",
       "      <td>NaT</td>\n",
       "      <td>2005-01-01</td>\n",
       "      <td>FY05/06</td>\n",
       "      <td>2005.0</td>\n",
       "      <td>WESTERN AV TO HALLDALE AV</td>\n",
       "      <td>Local Street</td>\n",
       "      <td>Local</td>\n",
       "      <td>...</td>\n",
       "      <td>0</td>\n",
       "      <td>None</td>\n",
       "      <td>0</td>\n",
       "      <td>30.0</td>\n",
       "      <td>NaN</td>\n",
       "      <td>4127.0</td>\n",
       "      <td>5</td>\n",
       "      <td>dc27915d-fb89-4e1b-9e3c-60c5436789d7</td>\n",
       "      <td>350.087190</td>\n",
       "      <td>LINESTRING Z (6468297.018 1803164.204 0, 64681...</td>\n",
       "    </tr>\n",
       "  </tbody>\n",
       "</table>\n",
       "<p>5 rows × 43 columns</p>\n",
       "</div>"
      ],
      "text/plain": [
       "   OBJECTID_1  SECT_ID  InputDate Update_Dat Install_Da       FY   Year_  \\\n",
       "0           1  3548700 2019-04-09 2019-04-09 2019-03-01  FY18/19  2019.0   \n",
       "1           2  3548600 2019-04-09 2019-04-09 2019-03-01  FY18/19  2019.0   \n",
       "2           3  3548600 2019-04-09 2019-04-09 2019-03-01  FY18/19  2019.0   \n",
       "3           4  3548800 2019-04-09 2019-04-09 2019-03-01  FY18/19  2019.0   \n",
       "4           5  6739300        NaT        NaT 2005-01-01  FY05/06  2005.0   \n",
       "\n",
       "                           Limits    STREET_DES ST_TYPE  ... ClassIV_Pr  \\\n",
       "0  6TH ST TO 4TH PL / SANTA FE AV    Avenue III    None  ...          0   \n",
       "1  6TH ST TO 4TH PL / SANTA FE AV    Avenue III    None  ...          0   \n",
       "2  6TH ST TO 4TH PL / SANTA FE AV    Avenue III    None  ...          0   \n",
       "3  6TH ST TO 4TH PL / SANTA FE AV    Avenue III    None  ...          0   \n",
       "4       WESTERN AV TO HALLDALE AV  Local Street   Local  ...          0   \n",
       "\n",
       "   ClassIV__1  ClassIV__2 ST_WIDTH Compare ASSET_ID Bikeway_ID  \\\n",
       "0        None           0      0.0     NaN  17783.0          1   \n",
       "1        None           0      0.0     NaN  27684.0          2   \n",
       "2        None           0      0.0     NaN  27027.0          3   \n",
       "3        None           0      0.0     NaN  39059.0          4   \n",
       "4        None           0     30.0     NaN   4127.0          5   \n",
       "\n",
       "                               GlobalID  Shape__Len  \\\n",
       "0  7614417c-213b-48f2-bacc-56300c7d8e7b  354.897441   \n",
       "1  219e9fd2-be47-4334-8825-47abe09db653  269.514341   \n",
       "2  74037f89-7eed-412a-a6f1-7459365ec6ab  102.905742   \n",
       "3  40355cda-35d8-4da0-a9e5-72c6e1df2b09  295.730268   \n",
       "4  dc27915d-fb89-4e1b-9e3c-60c5436789d7  350.087190   \n",
       "\n",
       "                                            geometry  \n",
       "0  LINESTRING Z (6491098.651 1837081.6 0, 6491130...  \n",
       "1  LINESTRING Z (6491048.222 1837450.535 0, 64910...  \n",
       "2  LINESTRING Z (6491086.47 1837183.749 0, 649109...  \n",
       "3  LINESTRING Z (6491130.941 1836728.175 0, 64911...  \n",
       "4  LINESTRING Z (6468297.018 1803164.204 0, 64681...  \n",
       "\n",
       "[5 rows x 43 columns]"
      ]
     },
     "execution_count": 3,
     "metadata": {},
     "output_type": "execute_result"
    }
   ],
   "source": [
    "bikeways.head()"
   ]
  },
  {
   "cell_type": "markdown",
   "id": "aab60124-3a21-4d68-a3e5-a2d9fa8087f2",
   "metadata": {},
   "source": [
    "### How many rows and columns?"
   ]
  },
  {
   "cell_type": "code",
   "execution_count": 4,
   "id": "0a4dfadb-cc5e-4add-8382-834bf5786cc3",
   "metadata": {},
   "outputs": [
    {
     "data": {
      "text/plain": [
       "(7293, 43)"
      ]
     },
     "execution_count": 4,
     "metadata": {},
     "output_type": "execute_result"
    }
   ],
   "source": [
    "bikeways.shape"
   ]
  },
  {
   "cell_type": "markdown",
   "id": "2b1c041b-8e9f-4da4-95b4-d83fd029fe1a",
   "metadata": {},
   "source": [
    "### Datatype for each column"
   ]
  },
  {
   "cell_type": "code",
   "execution_count": 5,
   "id": "c2bc59ed-cc82-4067-8b66-d17428b01062",
   "metadata": {},
   "outputs": [
    {
     "name": "stdout",
     "output_type": "stream",
     "text": [
      "<class 'geopandas.geodataframe.GeoDataFrame'>\n",
      "RangeIndex: 7293 entries, 0 to 7292\n",
      "Data columns (total 43 columns):\n",
      " #   Column      Non-Null Count  Dtype         \n",
      "---  ------      --------------  -----         \n",
      " 0   OBJECTID_1  7293 non-null   int32         \n",
      " 1   SECT_ID     7283 non-null   object        \n",
      " 2   InputDate   1039 non-null   datetime64[ms]\n",
      " 3   Update_Dat  1802 non-null   datetime64[ms]\n",
      " 4   Install_Da  7293 non-null   datetime64[ms]\n",
      " 5   FY          7291 non-null   object        \n",
      " 6   Year_       7292 non-null   float64       \n",
      " 7   Limits      7168 non-null   object        \n",
      " 8   STREET_DES  6963 non-null   object        \n",
      " 9   ST_TYPE     6043 non-null   object        \n",
      " 10  OTHER       1026 non-null   object        \n",
      " 11  CL_Miles    7290 non-null   float64       \n",
      " 12  Lane_Miles  7290 non-null   float64       \n",
      " 13  CD          7293 non-null   object        \n",
      " 14  Network     3251 non-null   object        \n",
      " 15  Bikeway     7293 non-null   object        \n",
      " 16  Region      6740 non-null   object        \n",
      " 17  One_Dir_BW  1619 non-null   object        \n",
      " 18  Retire      635 non-null    object        \n",
      " 19  Class       7293 non-null   int32         \n",
      " 20  Project_Na  1136 non-null   object        \n",
      " 21  Project_Ty  1526 non-null   object        \n",
      " 22  RetireType  630 non-null    object        \n",
      " 23  CHECKED     6392 non-null   float64       \n",
      " 24  flag        925 non-null    float64       \n",
      " 25  Upgraded_F  668 non-null    object        \n",
      " 26  Comments    496 non-null    object        \n",
      " 27  Tag         6545 non-null   float64       \n",
      " 28  MP2035_Net  7183 non-null   object        \n",
      " 29  INTERU_FLA  5 non-null      float64       \n",
      " 30  ST_FROM     7257 non-null   object        \n",
      " 31  ST_TO       7252 non-null   object        \n",
      " 32  ST_NAME     7293 non-null   object        \n",
      " 33  ClassIV_Pr  7293 non-null   int32         \n",
      " 34  ClassIV__1  58 non-null     object        \n",
      " 35  ClassIV__2  6662 non-null   object        \n",
      " 36  ST_WIDTH    7015 non-null   float64       \n",
      " 37  Compare     833 non-null    float64       \n",
      " 38  ASSET_ID    7280 non-null   float64       \n",
      " 39  Bikeway_ID  7293 non-null   int32         \n",
      " 40  GlobalID    7293 non-null   object        \n",
      " 41  Shape__Len  7293 non-null   float64       \n",
      " 42  geometry    7293 non-null   geometry      \n",
      "dtypes: datetime64[ms](3), float64(11), geometry(1), int32(4), object(24)\n",
      "memory usage: 2.3+ MB\n"
     ]
    }
   ],
   "source": [
    "bikeways. info()"
   ]
  },
  {
   "cell_type": "markdown",
   "id": "7196d049-8b5f-4f64-afc6-32a2e886ebbd",
   "metadata": {},
   "source": [
    "### There are different types of bikeways. How many of each type are there?"
   ]
  },
  {
   "cell_type": "code",
   "execution_count": 6,
   "id": "28717c7a-710b-443b-bf8c-638402ca8657",
   "metadata": {},
   "outputs": [
    {
     "data": {
      "text/plain": [
       "Bikeway\n",
       "Lane                       4163\n",
       "Sharrowed Route            1048\n",
       "Route                       705\n",
       "Protected Bike Lane         680\n",
       "Buffer Bike Lane            605\n",
       "Path                         57\n",
       "Bicycle Friendly Street      34\n",
       "Detour Sharrowed Route        1\n",
       "Name: count, dtype: int64"
      ]
     },
     "execution_count": 6,
     "metadata": {},
     "output_type": "execute_result"
    }
   ],
   "source": [
    "bikeways['Bikeway'].value_counts()"
   ]
  },
  {
   "cell_type": "markdown",
   "id": "5a22dce0-798d-49b7-9028-50c00b347417",
   "metadata": {},
   "source": [
    "### Save it as a variable"
   ]
  },
  {
   "cell_type": "code",
   "execution_count": 7,
   "id": "70dfae1b-3e57-404f-96fd-b30b31c7674c",
   "metadata": {},
   "outputs": [
    {
     "data": {
      "text/plain": [
       "Bikeway\n",
       "Lane                       4163\n",
       "Sharrowed Route            1048\n",
       "Route                       705\n",
       "Protected Bike Lane         680\n",
       "Buffer Bike Lane            605\n",
       "Path                         57\n",
       "Bicycle Friendly Street      34\n",
       "Detour Sharrowed Route        1\n",
       "Name: count, dtype: int64"
      ]
     },
     "execution_count": 7,
     "metadata": {},
     "output_type": "execute_result"
    }
   ],
   "source": [
    "type_count = bikeways['Bikeway'].value_counts()\n",
    "type_count"
   ]
  },
  {
   "cell_type": "markdown",
   "id": "d2ff9b74-557e-4d38-a000-4b3fab3ed6c5",
   "metadata": {},
   "source": [
    "### Convert it into a dataframe"
   ]
  },
  {
   "cell_type": "code",
   "execution_count": 8,
   "id": "02d1b324-b714-4f64-b232-c6d11f67d5be",
   "metadata": {},
   "outputs": [
    {
     "data": {
      "text/html": [
       "<div>\n",
       "<style scoped>\n",
       "    .dataframe tbody tr th:only-of-type {\n",
       "        vertical-align: middle;\n",
       "    }\n",
       "\n",
       "    .dataframe tbody tr th {\n",
       "        vertical-align: top;\n",
       "    }\n",
       "\n",
       "    .dataframe thead th {\n",
       "        text-align: right;\n",
       "    }\n",
       "</style>\n",
       "<table border=\"1\" class=\"dataframe\">\n",
       "  <thead>\n",
       "    <tr style=\"text-align: right;\">\n",
       "      <th></th>\n",
       "      <th>Bikeway</th>\n",
       "      <th>count</th>\n",
       "    </tr>\n",
       "  </thead>\n",
       "  <tbody>\n",
       "    <tr>\n",
       "      <th>0</th>\n",
       "      <td>Lane</td>\n",
       "      <td>4163</td>\n",
       "    </tr>\n",
       "    <tr>\n",
       "      <th>1</th>\n",
       "      <td>Sharrowed Route</td>\n",
       "      <td>1048</td>\n",
       "    </tr>\n",
       "    <tr>\n",
       "      <th>2</th>\n",
       "      <td>Route</td>\n",
       "      <td>705</td>\n",
       "    </tr>\n",
       "    <tr>\n",
       "      <th>3</th>\n",
       "      <td>Protected Bike Lane</td>\n",
       "      <td>680</td>\n",
       "    </tr>\n",
       "    <tr>\n",
       "      <th>4</th>\n",
       "      <td>Buffer Bike Lane</td>\n",
       "      <td>605</td>\n",
       "    </tr>\n",
       "    <tr>\n",
       "      <th>5</th>\n",
       "      <td>Path</td>\n",
       "      <td>57</td>\n",
       "    </tr>\n",
       "    <tr>\n",
       "      <th>6</th>\n",
       "      <td>Bicycle Friendly Street</td>\n",
       "      <td>34</td>\n",
       "    </tr>\n",
       "    <tr>\n",
       "      <th>7</th>\n",
       "      <td>Detour Sharrowed Route</td>\n",
       "      <td>1</td>\n",
       "    </tr>\n",
       "  </tbody>\n",
       "</table>\n",
       "</div>"
      ],
      "text/plain": [
       "                   Bikeway  count\n",
       "0                     Lane   4163\n",
       "1          Sharrowed Route   1048\n",
       "2                    Route    705\n",
       "3      Protected Bike Lane    680\n",
       "4         Buffer Bike Lane    605\n",
       "5                     Path     57\n",
       "6  Bicycle Friendly Street     34\n",
       "7   Detour Sharrowed Route      1"
      ]
     },
     "execution_count": 8,
     "metadata": {},
     "output_type": "execute_result"
    }
   ],
   "source": [
    "type_count = type_count.reset_index()\n",
    "type_count"
   ]
  },
  {
   "cell_type": "markdown",
   "id": "fc5aeeca-9f6b-4d16-bc25-67eee8307170",
   "metadata": {},
   "source": [
    "### Rename columns"
   ]
  },
  {
   "cell_type": "code",
   "execution_count": 9,
   "id": "1193d5af-ce18-454f-b0cb-81f3e52f6484",
   "metadata": {},
   "outputs": [
    {
     "data": {
      "text/html": [
       "<div>\n",
       "<style scoped>\n",
       "    .dataframe tbody tr th:only-of-type {\n",
       "        vertical-align: middle;\n",
       "    }\n",
       "\n",
       "    .dataframe tbody tr th {\n",
       "        vertical-align: top;\n",
       "    }\n",
       "\n",
       "    .dataframe thead th {\n",
       "        text-align: right;\n",
       "    }\n",
       "</style>\n",
       "<table border=\"1\" class=\"dataframe\">\n",
       "  <thead>\n",
       "    <tr style=\"text-align: right;\">\n",
       "      <th></th>\n",
       "      <th>bikeway type</th>\n",
       "      <th>count</th>\n",
       "    </tr>\n",
       "  </thead>\n",
       "  <tbody>\n",
       "    <tr>\n",
       "      <th>0</th>\n",
       "      <td>Lane</td>\n",
       "      <td>4163</td>\n",
       "    </tr>\n",
       "    <tr>\n",
       "      <th>1</th>\n",
       "      <td>Sharrowed Route</td>\n",
       "      <td>1048</td>\n",
       "    </tr>\n",
       "    <tr>\n",
       "      <th>2</th>\n",
       "      <td>Route</td>\n",
       "      <td>705</td>\n",
       "    </tr>\n",
       "    <tr>\n",
       "      <th>3</th>\n",
       "      <td>Protected Bike Lane</td>\n",
       "      <td>680</td>\n",
       "    </tr>\n",
       "    <tr>\n",
       "      <th>4</th>\n",
       "      <td>Buffer Bike Lane</td>\n",
       "      <td>605</td>\n",
       "    </tr>\n",
       "    <tr>\n",
       "      <th>5</th>\n",
       "      <td>Path</td>\n",
       "      <td>57</td>\n",
       "    </tr>\n",
       "    <tr>\n",
       "      <th>6</th>\n",
       "      <td>Bicycle Friendly Street</td>\n",
       "      <td>34</td>\n",
       "    </tr>\n",
       "    <tr>\n",
       "      <th>7</th>\n",
       "      <td>Detour Sharrowed Route</td>\n",
       "      <td>1</td>\n",
       "    </tr>\n",
       "  </tbody>\n",
       "</table>\n",
       "</div>"
      ],
      "text/plain": [
       "              bikeway type  count\n",
       "0                     Lane   4163\n",
       "1          Sharrowed Route   1048\n",
       "2                    Route    705\n",
       "3      Protected Bike Lane    680\n",
       "4         Buffer Bike Lane    605\n",
       "5                     Path     57\n",
       "6  Bicycle Friendly Street     34\n",
       "7   Detour Sharrowed Route      1"
      ]
     },
     "execution_count": 9,
     "metadata": {},
     "output_type": "execute_result"
    }
   ],
   "source": [
    "type_count.columns.to_list()\n",
    "type_count.columns = ['bikeway type', 'count']\n",
    "type_count"
   ]
  },
  {
   "cell_type": "markdown",
   "id": "5fa73a1d-f86d-4911-bf84-29e037b51f72",
   "metadata": {},
   "source": [
    "### Make a bar plot of the bikeway types in LA"
   ]
  },
  {
   "cell_type": "code",
   "execution_count": 10,
   "id": "b63bce36-1ab5-4556-834f-51e58d56671c",
   "metadata": {},
   "outputs": [
    {
     "data": {
      "text/plain": [
       "<Axes: title={'center': 'Different Types of Bikeways in LA'}, xlabel='bikeway type'>"
      ]
     },
     "execution_count": 10,
     "metadata": {},
     "output_type": "execute_result"
    },
    {
     "data": {
      "image/png": "[encoded data removed]",
      "text/plain": [
       "<Figure size 640x480 with 1 Axes>"
      ]
     },
     "metadata": {},
     "output_type": "display_data"
    }
   ],
   "source": [
    "type_count.plot.bar(x = 'bikeway type', y = 'count', title = 'Different Types of Bikeways in LA')"
   ]
  }
 ],
 "metadata": {
  "kernelspec": {
   "display_name": "Python 3 (ipykernel)",
   "language": "python",
   "name": "python3"
  },
  "language_info": {
   "codemirror_mode": {
    "name": "ipython",
    "version": 3
   },
   "file_extension": ".py",
   "mimetype": "text/x-python",
   "name": "python",
   "nbconvert_exporter": "python",
   "pygments_lexer": "ipython3",
   "version": "3.11.9"
  }
 },
 "nbformat": 4,
 "nbformat_minor": 5
}
