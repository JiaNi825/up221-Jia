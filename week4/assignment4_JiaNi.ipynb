{
 "cells": [
  {
   "cell_type": "markdown",
   "id": "602bf158-34be-4ce7-a3e2-d832243192c9",
   "metadata": {},
   "source": [
    "# **Week 4 Race Data Analysis Update**\n",
    "### **Jia Ni**\n",
    "In this assignment, to further assess the evenness of racial distribution in LA County, particularly in areas where the population distribution is highly uneven (with significant racial disparities), I calculated the Shannon-Wiener Index for each census tract to measure racial diversity and visualized the index onto the base map. A higher index value indicates a more even population distribution and greater diversity, while a lower index value suggests that one or a few racial groups dominate, leading to lower diversity."
   ]
  },
  {
   "cell_type": "markdown",
   "id": "bf761efb-43c3-4c78-96d9-10e741601c88",
   "metadata": {},
   "source": [
    "### **Import the libraries**"
   ]
  },
  {
   "cell_type": "code",
   "execution_count": null,
   "id": "118eff3b-6e90-496a-bdb3-d2dfa4356529",
   "metadata": {},
   "outputs": [],
   "source": [
    "import pandas as pd\n",
    "import geopandas as gpd\n",
    "import numpy as np\n",
    "import folium"
   ]
  },
  {
   "cell_type": "markdown",
   "id": "f2d42375-948a-42ea-975d-a9dfe76f56ba",
   "metadata": {},
   "source": [
    "### **Read and add GeoJSON file to notebook**"
   ]
  },
  {
   "cell_type": "code",
   "execution_count": null,
   "id": "b256a567-c618-4bf2-a260-60a8b57c9d76",
   "metadata": {
    "scrolled": true
   },
   "outputs": [],
   "source": [
    "tracts_race = gpd.read_file(\"data/tracts_race.geojson\")\n",
    "tracts_race.head()"
   ]
  },
  {
   "cell_type": "markdown",
   "id": "051e820e-ea34-4103-a3b7-891f213cd08a",
   "metadata": {},
   "source": [
    "### **Extract the columns of racial percentages**"
   ]
  },
  {
   "cell_type": "code",
   "execution_count": null,
   "id": "6373a38f-86af-491a-818a-874a86a2599e",
   "metadata": {},
   "outputs": [],
   "source": [
    "percent_columns = [\n",
    "    \"White_Percent\",\n",
    "    \"Black or African American_Percent\",\n",
    "    \"American Indian and Alaska Native_Percent\",\n",
    "    \"Asian_Percent\",\n",
    "    \"Native Hawaiian and Other Pacific Islander_Percent\",\n",
    "    \"Some Other Race_Percent\",\n",
    "    \"Two or More Races_Percent\"\n",
    "]"
   ]
  },
  {
   "cell_type": "code",
   "execution_count": null,
   "id": "b3265105-d58d-43e4-8e4d-4c5ea257acfd",
   "metadata": {},
   "outputs": [],
   "source": [
    "# Check the data types\n",
    "tracts_race[percent_columns].dtypes"
   ]
  },
  {
   "cell_type": "code",
   "execution_count": null,
   "id": "6ff1ea5b-ebfe-4b8a-8c66-f71924b685e3",
   "metadata": {},
   "outputs": [],
   "source": [
    "# Convert the percentage columns to numeric type, with non-numeric values converted to NaN\n",
    "tracts_race[percent_columns] = tracts_race[percent_columns].apply(pd.to_numeric, errors=\"coerce\")\n",
    "\n",
    "# Check for NaN\n",
    "print(tracts_race[percent_columns].isna().sum())"
   ]
  },
  {
   "cell_type": "markdown",
   "id": "1a087594-9327-4632-b8ac-34522b970893",
   "metadata": {},
   "source": [
    "### **Data cleaning**"
   ]
  },
  {
   "cell_type": "code",
   "execution_count": null,
   "id": "51628e4c-78dc-44a6-b02e-a5eeb3153a9b",
   "metadata": {
    "scrolled": true
   },
   "outputs": [],
   "source": [
    "# Filter rows containing NaN\n",
    "rows_with_nan = tracts_race[tracts_race[percent_columns].isna().any(axis=1)]\n",
    "rows_with_nan"
   ]
  },
  {
   "cell_type": "code",
   "execution_count": null,
   "id": "9d7ab520-9f3e-49be-b27a-47fc0a5f9bfc",
   "metadata": {},
   "outputs": [],
   "source": [
    "# Delete them\n",
    "tracts_race = tracts_race.dropna(subset=percent_columns)"
   ]
  },
  {
   "cell_type": "code",
   "execution_count": null,
   "id": "c36b8fd5-7dc9-4e9c-b4ae-d7d129d3a4c0",
   "metadata": {},
   "outputs": [],
   "source": [
    "# Check for NaN\n",
    "print(tracts_race[percent_columns].isna().any())"
   ]
  },
  {
   "cell_type": "code",
   "execution_count": null,
   "id": "9c88b434-ce4a-4cb2-be3e-434de1ed9521",
   "metadata": {
    "scrolled": true
   },
   "outputs": [],
   "source": [
    "# Convert percentages to decimals\n",
    "tracts_race[percent_columns] = tracts_race[percent_columns].div(100)\n",
    "tracts_race.head()"
   ]
  },
  {
   "cell_type": "markdown",
   "id": "f357b27f-4915-454a-9b24-758e869cf6e4",
   "metadata": {},
   "source": [
    "### **Define the Shannon-Wiener Index calculation function**"
   ]
  },
  {
   "cell_type": "code",
   "execution_count": null,
   "id": "281ba528-e56e-4ee2-8def-a4e28686847c",
   "metadata": {},
   "outputs": [],
   "source": [
    "def calculate_shannon_wiener(row):\n",
    "    proportions = row[row > 0]\n",
    "    return -np.sum(proportions * np.log(proportions))\n",
    "\n",
    "# Calculate the Shannon-Wiener Index for each census tract\n",
    "tracts_race[\"Shannon_Wiener_Index\"] = tracts_race[percent_columns].apply(calculate_shannon_wiener, axis=1)"
   ]
  },
  {
   "cell_type": "code",
   "execution_count": null,
   "id": "5b3993eb-7c1d-44d1-911d-32e66a9acf56",
   "metadata": {
    "scrolled": true
   },
   "outputs": [],
   "source": [
    "tracts_race.head()"
   ]
  },
  {
   "cell_type": "markdown",
   "id": "855accbf-ad7a-4887-90dc-cfeefe512f51",
   "metadata": {},
   "source": [
    "### **Create the histogram of the Shannon-Wiener Index in LA**"
   ]
  },
  {
   "cell_type": "code",
   "execution_count": null,
   "id": "78a0633b-046b-4070-a17d-96f570d52bfd",
   "metadata": {
    "scrolled": true
   },
   "outputs": [],
   "source": [
    "import matplotlib.pyplot as plt\n",
    "\n",
    "plt.figure(figsize=(14, 8))\n",
    "plt.hist(tracts_race[\"Shannon_Wiener_Index\"], bins=50, color=\"lightyellow\", edgecolor='#80795b')\n",
    "\n",
    "plt.title(\"Distribution of Shannon-Wiener Index in LA County\", fontsize=14, fontweight='bold', pad = 10)\n",
    "plt.xlabel(\"Shannon-Wiener Index\", fontsize=12, fontweight='bold', labelpad = 10)\n",
    "plt.ylabel(\"Frequency\", fontsize=12, fontweight='bold', labelpad = 10)\n",
    "plt.grid(axis=\"y\", linestyle=\"--\", alpha=0.3)\n",
    "\n",
    "plt.show()"
   ]
  },
  {
   "cell_type": "markdown",
   "id": "9925516d-a41a-42a0-8cd9-26eb9bcb0af9",
   "metadata": {},
   "source": [
    "### **Ensure compatibility with mapping libraries**"
   ]
  },
  {
   "cell_type": "code",
   "execution_count": null,
   "id": "b6fc49d7-3223-4eb5-83d9-fcbf44f87ed8",
   "metadata": {},
   "outputs": [],
   "source": [
    "if tracts_race.crs.to_epsg() != 4326:\n",
    "    tracts_race = tracts_race.to_crs(epsg=4326)"
   ]
  },
  {
   "cell_type": "markdown",
   "id": "2f9542bf-7830-4b87-ba39-62697b6d889d",
   "metadata": {},
   "source": [
    "### **Find the center of the spatial extent**"
   ]
  },
  {
   "cell_type": "code",
   "execution_count": null,
   "id": "6c32fd24-ac17-4e44-8335-b70ab4c9d2a2",
   "metadata": {},
   "outputs": [],
   "source": [
    "bounds = tracts_race.total_bounds\n",
    "minx, miny, maxx, maxy = bounds\n",
    "center_lat = (miny + maxy) / 2\n",
    "center_lon = (minx + maxx) / 2"
   ]
  },
  {
   "cell_type": "markdown",
   "id": "17e10875-55bd-413f-ae6c-fa14f1b426de",
   "metadata": {},
   "source": [
    "### **Create an interactive map of the Shannon-Wiener Index**"
   ]
  },
  {
   "cell_type": "code",
   "execution_count": null,
   "id": "1abad934-db4a-4561-84fc-89e1145cc294",
   "metadata": {
    "scrolled": true
   },
   "outputs": [],
   "source": [
    "# Set up the base map\n",
    "m_sw = folium.Map(location=[center_lat, center_lon], tiles=\"cartodb positron\")\n",
    "m_sw.fit_bounds([[miny, minx], [maxy, maxx]])"
   ]
  },
  {
   "cell_type": "code",
   "execution_count": null,
   "id": "a5a0821a-bb16-4587-b353-bc3c77cef570",
   "metadata": {},
   "outputs": [],
   "source": [
    "# Create a choropleth map of the Shannon-Wiener Index\n",
    "folium.Choropleth(\n",
    "    geo_data=tracts_race,\n",
    "    data=tracts_race,\n",
    "    columns=[\"FIPS\", \"Shannon_Wiener_Index\"],\n",
    "    key_on=\"feature.properties.FIPS\",\n",
    "    fill_color=\"YlGnBu\",\n",
    "    fill_opacity=0.7,\n",
    "    line_opacity=0,\n",
    "    legend_name=\"Shannon-Wienner Index\"\n",
    ").add_to(m_sw)"
   ]
  },
  {
   "cell_type": "code",
   "execution_count": null,
   "id": "a6fce8ca-b330-4510-b467-00c0a7a63f51",
   "metadata": {},
   "outputs": [],
   "source": [
    "# Add borders and tooltips\n",
    "folium.GeoJson(\n",
    "    tracts_race,\n",
    "    name=\"Borders\",\n",
    "    style_function=lambda feature: {\n",
    "        \"fillOpacity\": 0,\n",
    "        \"color\": \"white\",\n",
    "        \"weight\": 0.3\n",
    "    },\n",
    "    tooltip=folium.GeoJsonTooltip(fields=[\"FIPS\", \"Shannon_Wiener_Index\"],\n",
    "                                   aliases=[\"Census Tract ID\", \"Shannon_Wiener_Index\"],\n",
    "                                   localize=True)\n",
    ").add_to(m_sw)"
   ]
  },
  {
   "cell_type": "code",
   "execution_count": null,
   "id": "af3472e2-0161-40c7-8f68-04af41bccc35",
   "metadata": {},
   "outputs": [],
   "source": [
    "# Show the map\n",
    "m_sw"
   ]
  },
  {
   "cell_type": "code",
   "execution_count": null,
   "id": "c156cada-f0fa-4084-bb58-369875fda23a",
   "metadata": {},
   "outputs": [],
   "source": [
    "# Save the map to HTMLs\n",
    "m_sw.save('Shannon-Wiener Index.html')"
   ]
  }
 ],
 "metadata": {
  "kernelspec": {
   "display_name": "Python 3 (ipykernel)",
   "language": "python",
   "name": "python3"
  },
  "language_info": {
   "codemirror_mode": {
    "name": "ipython",
    "version": 3
   },
   "file_extension": ".py",
   "mimetype": "text/x-python",
   "name": "python",
   "nbconvert_exporter": "python",
   "pygments_lexer": "ipython3",
   "version": "3.11.9"
  }
 },
 "nbformat": 4,
 "nbformat_minor": 5
}
